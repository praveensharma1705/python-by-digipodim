{
 "cells": [
  {
   "cell_type": "markdown",
   "metadata": {},
   "source": [
    "# HOW TO INSTALL VARIOUS PYTHON ENVIROMENTS??"
   ]
  },
  {
   "cell_type": "markdown",
   "metadata": {},
   "source": [
    "1 conda create -n py310 python=3.10 ipykernel -y\n",
    "2 conda activate py310\n",
    "3 python --version\n"
   ]
  }
 ],
 "metadata": {
  "kernelspec": {
   "display_name": "Python 3.10.6 ('py310')",
   "language": "python",
   "name": "python3"
  },
  "language_info": {
   "name": "python",
   "version": "3.10.6"
  },
  "orig_nbformat": 4,
  "vscode": {
   "interpreter": {
    "hash": "26b1ea535f9192eaf9dc97be80b6d13077419ab79482ff44ffec00ec53a24bf4"
   }
  }
 },
 "nbformat": 4,
 "nbformat_minor": 2
}
