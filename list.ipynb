{
 "cells": [
  {
   "cell_type": "code",
   "execution_count": 1,
   "metadata": {},
   "outputs": [],
   "source": [
    "#defining list in python-\n",
    "#List of strings\n",
    "list1 =[\"nikhlesh\",\"Aman\",\"Rahul\",\"Devansh\",\"Rishabh\"]\n",
    "\n",
    "# List of nimbers\n",
    "list2 =[1,2,3,4,5,15,25,100]\n",
    "\n",
    "# Mixed data list\n",
    "list3 =['Ravi',90,102,93,29,44,\"B\",False,5.786]\n",
    "\n",
    "# Nested List\n",
    "list4 =[[1,2,3],[3,4,5,7],[34,3,6,2,96]]"
   ]
  },
  {
   "cell_type": "code",
   "execution_count": 2,
   "metadata": {},
   "outputs": [],
   "source": [
    "x= [] # empty list"
   ]
  },
  {
   "cell_type": "code",
   "execution_count": 3,
   "metadata": {},
   "outputs": [
    {
     "name": "stdout",
     "output_type": "stream",
     "text": [
      "[1, 2, 3, 1, 2, 3, 1, 2, 3, 1, 2, 3, 1, 2, 3, 1, 2, 3, 1, 2, 3, 1, 2, 3, 1, 2, 3, 1, 2, 3]\n"
     ]
    }
   ],
   "source": [
    "y = [1,2,3] * 10 # duplicate list\n",
    "print(y)"
   ]
  },
  {
   "cell_type": "code",
   "execution_count": 4,
   "metadata": {},
   "outputs": [
    {
     "name": "stdout",
     "output_type": "stream",
     "text": [
      "[1, 2, 3, 3, 2, 3]\n"
     ]
    }
   ],
   "source": [
    "z = [1,2,3] + [3,2,3] # concatenated list\n",
    "print(z)"
   ]
  },
  {
   "cell_type": "code",
   "execution_count": 5,
   "metadata": {},
   "outputs": [],
   "source": [
    "a = [1,2,3,4,5,6,7,8,9,10]"
   ]
  },
  {
   "cell_type": "code",
   "execution_count": 6,
   "metadata": {},
   "outputs": [
    {
     "name": "stdout",
     "output_type": "stream",
     "text": [
      "[1, 2, 3, 4, 5, 6, 7, 8, 9, 10, 11, 12, 13, 14, 15, 16, 17, 18, 19, 20, 21, 22, 23, 24, 25, 26, 27, 28, 29, 30, 31, 32, 33, 34, 35, 36, 37, 38, 39, 40, 41, 42, 43, 44, 45, 46, 47, 48, 49, 50, 51, 52, 53, 54, 55, 56, 57, 58, 59, 60, 61, 62, 63, 64, 65, 66, 67, 68, 69, 70, 71, 72, 73, 74, 75, 76, 77, 78, 79, 80, 81, 82, 83, 84, 85, 86, 87, 88, 89, 90, 91, 92, 93, 94, 95, 96, 97, 98, 99, 100]\n"
     ]
    }
   ],
   "source": [
    "ab = list(range(1,101))\n",
    "print(ab)"
   ]
  },
  {
   "cell_type": "code",
   "execution_count": 8,
   "metadata": {},
   "outputs": [
    {
     "name": "stdout",
     "output_type": "stream",
     "text": [
      "[2, 7, 12, 17, 22, 27, 32, 37, 42, 47]\n"
     ]
    }
   ],
   "source": [
    "twoMult = list(range(2,51,5))\n",
    "print(twoMult)"
   ]
  },
  {
   "cell_type": "code",
   "execution_count": 7,
   "metadata": {},
   "outputs": [
    {
     "name": "stdout",
     "output_type": "stream",
     "text": [
      "[2, 4, 6, 8, 10, 12, 14, 16, 18, 20, 22, 24, 26, 28, 30, 32, 34, 36, 38, 40, 42, 44, 46, 48, 50, 52, 54, 56, 58, 60, 62, 64, 66, 68, 70, 72, 74, 76, 78, 80, 82, 84, 86, 88, 90, 92, 94, 96, 98, 100]"
     ]
    }
   ],
   "source": [
    "a = list(range(2,101,2))\n",
    "print(a,end='')"
   ]
  },
  {
   "cell_type": "code",
   "execution_count": null,
   "metadata": {},
   "outputs": [],
   "source": [
    "# list has 11 methods\n",
    "\n",
    "#addition\n",
    "  append\n",
    "  insert\n",
    "  extend\n",
    "#deletion\n",
    "  remove\n",
    "  pop\n",
    "  clear\n",
    "#utility\n",
    "  count\n",
    "  index\n",
    "  copy\n",
    "  sort\n",
    "  reverse"
   ]
  },
  {
   "cell_type": "code",
   "execution_count": 1,
   "metadata": {},
   "outputs": [],
   "source": [
    "movies = []"
   ]
  },
  {
   "cell_type": "code",
   "execution_count": 2,
   "metadata": {},
   "outputs": [],
   "source": [
    "movies.append('Black Panther')"
   ]
  },
  {
   "cell_type": "code",
   "execution_count": 6,
   "metadata": {},
   "outputs": [
    {
     "name": "stdout",
     "output_type": "stream",
     "text": [
      "['Black Panther', 'Black Panther', 'Black Panther bullet train', \"Black Panther', 'bullet train\", 'black panther ']\n"
     ]
    }
   ],
   "source": [
    "fav_movie = input('enter ur fav movie: ')\n",
    "movies.append(fav_movie)\n",
    "print(movies)"
   ]
  },
  {
   "cell_type": "code",
   "execution_count": 7,
   "metadata": {},
   "outputs": [
    {
     "name": "stdout",
     "output_type": "stream",
     "text": [
      "['Black Panther', 'Black Panther', 'Black Panther bullet train', \"Black Panther', 'bullet train\", 'black panther ', 'Black Panther', 'bullet train', 'uncharted', 'red notice', 'adam project']\n"
     ]
    }
   ],
   "source": [
    "for i in range(5):\n",
    "    movies.append(input(\"enter another movie: \"))\n",
    "\n",
    "print(movies)"
   ]
  },
  {
   "cell_type": "code",
   "execution_count": 8,
   "metadata": {},
   "outputs": [
    {
     "name": "stdout",
     "output_type": "stream",
     "text": [
      "-> BLACK PANTHER\n",
      "-> BLACK PANTHER\n",
      "-> BLACK PANTHER BULLET TRAIN\n",
      "-> BLACK PANTHER', 'BULLET TRAIN\n",
      "-> BLACK PANTHER \n",
      "-> BLACK PANTHER\n",
      "-> BULLET TRAIN\n",
      "-> UNCHARTED\n",
      "-> RED NOTICE\n",
      "-> ADAM PROJECT\n"
     ]
    }
   ],
   "source": [
    "for movie in movies:\n",
    "    print(f\"-> {movie.upper()}\")"
   ]
  },
  {
   "cell_type": "code",
   "execution_count": 9,
   "metadata": {},
   "outputs": [
    {
     "name": "stdout",
     "output_type": "stream",
     "text": [
      "['Black Panther', 'Black Panther', 'Shazam', \"Black Panther', 'bullet train\", 'black panther ', 'Black Panther', 'bullet train', 'uncharted', 'red notice', 'adam project']\n"
     ]
    }
   ],
   "source": [
    "movies[2] = 'Shazam'\n",
    "print(movies)"
   ]
  },
  {
   "cell_type": "code",
   "execution_count": 10,
   "metadata": {},
   "outputs": [
    {
     "name": "stdout",
     "output_type": "stream",
     "text": [
      "['uncharted', 'red notice', 'bullet train', 'black panther ', 'adam project', 'Shazam', \"Black Panther', 'bullet train\", 'Black Panther', 'Black Panther', 'Black Panther']\n"
     ]
    }
   ],
   "source": [
    "movies.sort(reverse=True)\n",
    "print(movies)"
   ]
  },
  {
   "cell_type": "code",
   "execution_count": 11,
   "metadata": {},
   "outputs": [
    {
     "name": "stdout",
     "output_type": "stream",
     "text": [
      "['Black Panther', 'Black Panther', 'Black Panther', \"Black Panther', 'bullet train\", 'Shazam', 'adam project', 'black panther ', 'bullet train', 'red notice', 'uncharted']\n"
     ]
    }
   ],
   "source": [
    "movies.sort()\n",
    "print(movies)"
   ]
  },
  {
   "cell_type": "code",
   "execution_count": 12,
   "metadata": {},
   "outputs": [],
   "source": [
    "movies.remove('adam project')"
   ]
  },
  {
   "cell_type": "code",
   "execution_count": 14,
   "metadata": {},
   "outputs": [],
   "source": [
    "if 'Shazam' in movies:\n",
    "    movies.remove('Shazam')"
   ]
  },
  {
   "cell_type": "code",
   "execution_count": 15,
   "metadata": {},
   "outputs": [
    {
     "data": {
      "text/plain": [
       "\"Black Panther', 'bullet train\""
      ]
     },
     "execution_count": 15,
     "metadata": {},
     "output_type": "execute_result"
    }
   ],
   "source": [
    "movies.pop(3)"
   ]
  },
  {
   "cell_type": "code",
   "execution_count": 16,
   "metadata": {},
   "outputs": [
    {
     "data": {
      "text/plain": [
       "'uncharted'"
      ]
     },
     "execution_count": 16,
     "metadata": {},
     "output_type": "execute_result"
    }
   ],
   "source": [
    "movies.pop() # last element is removed"
   ]
  },
  {
   "cell_type": "code",
   "execution_count": 17,
   "metadata": {},
   "outputs": [
    {
     "data": {
      "text/plain": [
       "['Black Panther',\n",
       " 'Black Panther',\n",
       " 'Black Panther',\n",
       " 'black panther ',\n",
       " 'bullet train',\n",
       " 'red notice']"
      ]
     },
     "execution_count": 17,
     "metadata": {},
     "output_type": "execute_result"
    }
   ],
   "source": [
    "movies"
   ]
  },
  {
   "cell_type": "code",
   "execution_count": 18,
   "metadata": {},
   "outputs": [],
   "source": [
    "movies.clear()"
   ]
  },
  {
   "cell_type": "code",
   "execution_count": 19,
   "metadata": {},
   "outputs": [],
   "source": [
    "x = [12,3,3,3,5,4,2,3,2,5,5,1,2,23,3,5,5,4,5,5,3,1,3,5,2,1,5,62,2,]"
   ]
  },
  {
   "cell_type": "code",
   "execution_count": 20,
   "metadata": {},
   "outputs": [
    {
     "name": "stdout",
     "output_type": "stream",
     "text": [
      "[2, 62, 5, 1, 2, 5, 3, 1, 3, 5, 5, 4, 5, 5, 3, 23, 2, 1, 5, 5, 2, 3, 2, 4, 5, 3, 3, 3, 12]\n"
     ]
    }
   ],
   "source": [
    "x.reverse()\n",
    "print(x)"
   ]
  },
  {
   "cell_type": "code",
   "execution_count": 21,
   "metadata": {},
   "outputs": [
    {
     "data": {
      "text/plain": [
       "9"
      ]
     },
     "execution_count": 21,
     "metadata": {},
     "output_type": "execute_result"
    }
   ],
   "source": [
    "x.count(5)"
   ]
  },
  {
   "cell_type": "code",
   "execution_count": 22,
   "metadata": {},
   "outputs": [],
   "source": [
    "x= [1,2,3]\n",
    "y = x # copy reference"
   ]
  },
  {
   "cell_type": "code",
   "execution_count": 24,
   "metadata": {},
   "outputs": [
    {
     "name": "stdout",
     "output_type": "stream",
     "text": [
      "[1, 2, 3, 10, 20]\n",
      "[1, 2, 3, 10, 20]\n"
     ]
    }
   ],
   "source": [
    "x.append(10)\n",
    "y.append(20)\n",
    "print(x)\n",
    "print(y)"
   ]
  },
  {
   "cell_type": "code",
   "execution_count": 25,
   "metadata": {},
   "outputs": [
    {
     "name": "stdout",
     "output_type": "stream",
     "text": [
      "[1, 2, 3, 10, 20, 10]\n",
      "[1, 2, 3, 10, 20, 100]\n"
     ]
    }
   ],
   "source": [
    "z = x.copy()\n",
    "z.append(100)\n",
    "x.append(10)\n",
    "print(x)\n",
    "print(z)"
   ]
  },
  {
   "cell_type": "code",
   "execution_count": 26,
   "metadata": {},
   "outputs": [
    {
     "data": {
      "text/plain": [
       "True"
      ]
     },
     "execution_count": 26,
     "metadata": {},
     "output_type": "execute_result"
    }
   ],
   "source": [
    "x is y"
   ]
  },
  {
   "cell_type": "code",
   "execution_count": 27,
   "metadata": {},
   "outputs": [
    {
     "data": {
      "text/plain": [
       "False"
      ]
     },
     "execution_count": 27,
     "metadata": {},
     "output_type": "execute_result"
    }
   ],
   "source": [
    "z is x"
   ]
  },
  {
   "cell_type": "code",
   "execution_count": null,
   "metadata": {},
   "outputs": [],
   "source": []
  }
 ],
 "metadata": {
  "kernelspec": {
   "display_name": "Python 3.9.12 ('base')",
   "language": "python",
   "name": "python3"
  },
  "language_info": {
   "codemirror_mode": {
    "name": "ipython",
    "version": 3
   },
   "file_extension": ".py",
   "mimetype": "text/x-python",
   "name": "python",
   "nbconvert_exporter": "python",
   "pygments_lexer": "ipython3",
   "version": "3.9.12"
  },
  "orig_nbformat": 4,
  "vscode": {
   "interpreter": {
    "hash": "d352f530d35ba9a8cbd74dc54ae14fe97a35856bed16a2f3b615ca61b68e7fcb"
   }
  }
 },
 "nbformat": 4,
 "nbformat_minor": 2
}
